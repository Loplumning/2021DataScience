{
 "cells": [
  {
   "cell_type": "code",
   "execution_count": 1,
   "id": "798e96cb",
   "metadata": {},
   "outputs": [],
   "source": [
    "import pandas as pd\n",
    "import matplotlib.pyplot as plt\n",
    "import numpy as np\n",
    "\n",
    "%matplotlib inline\n",
    "color = ['#E64980', '#FFA94D', '#74B816', '#748FFC']"
   ]
  },
  {
   "cell_type": "code",
   "execution_count": 2,
   "id": "3941de52",
   "metadata": {},
   "outputs": [
    {
     "data": {
      "text/html": [
       "<div>\n",
       "<style scoped>\n",
       "    .dataframe tbody tr th:only-of-type {\n",
       "        vertical-align: middle;\n",
       "    }\n",
       "\n",
       "    .dataframe tbody tr th {\n",
       "        vertical-align: top;\n",
       "    }\n",
       "\n",
       "    .dataframe thead th {\n",
       "        text-align: right;\n",
       "    }\n",
       "</style>\n",
       "<table border=\"1\" class=\"dataframe\">\n",
       "  <thead>\n",
       "    <tr style=\"text-align: right;\">\n",
       "      <th></th>\n",
       "      <th>x</th>\n",
       "      <th>y</th>\n",
       "      <th>cluster</th>\n",
       "    </tr>\n",
       "  </thead>\n",
       "  <tbody>\n",
       "    <tr>\n",
       "      <th>0</th>\n",
       "      <td>2.1364</td>\n",
       "      <td>0.8369</td>\n",
       "      <td>1</td>\n",
       "    </tr>\n",
       "    <tr>\n",
       "      <th>1</th>\n",
       "      <td>7.4096</td>\n",
       "      <td>-1.4137</td>\n",
       "      <td>3</td>\n",
       "    </tr>\n",
       "    <tr>\n",
       "      <th>2</th>\n",
       "      <td>5.0996</td>\n",
       "      <td>1.1552</td>\n",
       "      <td>0</td>\n",
       "    </tr>\n",
       "    <tr>\n",
       "      <th>3</th>\n",
       "      <td>7.8149</td>\n",
       "      <td>-1.0186</td>\n",
       "      <td>3</td>\n",
       "    </tr>\n",
       "    <tr>\n",
       "      <th>4</th>\n",
       "      <td>1.8925</td>\n",
       "      <td>1.2714</td>\n",
       "      <td>1</td>\n",
       "    </tr>\n",
       "    <tr>\n",
       "      <th>...</th>\n",
       "      <td>...</td>\n",
       "      <td>...</td>\n",
       "      <td>...</td>\n",
       "    </tr>\n",
       "    <tr>\n",
       "      <th>295</th>\n",
       "      <td>1.5798</td>\n",
       "      <td>1.9737</td>\n",
       "      <td>1</td>\n",
       "    </tr>\n",
       "    <tr>\n",
       "      <th>296</th>\n",
       "      <td>1.3918</td>\n",
       "      <td>2.5183</td>\n",
       "      <td>1</td>\n",
       "    </tr>\n",
       "    <tr>\n",
       "      <th>297</th>\n",
       "      <td>4.5359</td>\n",
       "      <td>0.4390</td>\n",
       "      <td>0</td>\n",
       "    </tr>\n",
       "    <tr>\n",
       "      <th>298</th>\n",
       "      <td>7.7911</td>\n",
       "      <td>0.3695</td>\n",
       "      <td>3</td>\n",
       "    </tr>\n",
       "    <tr>\n",
       "      <th>299</th>\n",
       "      <td>2.7497</td>\n",
       "      <td>-1.7915</td>\n",
       "      <td>2</td>\n",
       "    </tr>\n",
       "  </tbody>\n",
       "</table>\n",
       "<p>300 rows × 3 columns</p>\n",
       "</div>"
      ],
      "text/plain": [
       "          x       y  cluster\n",
       "0    2.1364  0.8369        1\n",
       "1    7.4096 -1.4137        3\n",
       "2    5.0996  1.1552        0\n",
       "3    7.8149 -1.0186        3\n",
       "4    1.8925  1.2714        1\n",
       "..      ...     ...      ...\n",
       "295  1.5798  1.9737        1\n",
       "296  1.3918  2.5183        1\n",
       "297  4.5359  0.4390        0\n",
       "298  7.7911  0.3695        3\n",
       "299  2.7497 -1.7915        2\n",
       "\n",
       "[300 rows x 3 columns]"
      ]
     },
     "execution_count": 2,
     "metadata": {},
     "output_type": "execute_result"
    }
   ],
   "source": [
    "df = pd.read_csv('cdata.csv')\n",
    "df"
   ]
  },
  {
   "cell_type": "markdown",
   "id": "99b19c81",
   "metadata": {},
   "source": [
    "###  The reality of data clustering "
   ]
  },
  {
   "cell_type": "code",
   "execution_count": 3,
   "id": "0edb82d4",
   "metadata": {},
   "outputs": [
    {
     "data": {
      "text/plain": [
       "<matplotlib.legend.Legend at 0x2071c71e790>"
      ]
     },
     "execution_count": 3,
     "metadata": {},
     "output_type": "execute_result"
    },
    {
     "data": {
      "image/png": "[encoded data removed]",
      "text/plain": [
       "<Figure size 432x288 with 1 Axes>"
      ]
     },
     "metadata": {
      "needs_background": "light"
     },
     "output_type": "display_data"
    }
   ],
   "source": [
    "x0 = df['x'][df['cluster'] == 0]\n",
    "y0 = df['y'][df['cluster'] == 0]\n",
    "\n",
    "x1 = df['x'][df['cluster'] == 1]\n",
    "y1 = df['y'][df['cluster'] == 1]\n",
    "\n",
    "x2 = df['x'][df['cluster'] == 2]\n",
    "y2 = df['y'][df['cluster'] == 2]\n",
    "\n",
    "x3 = df['x'][df['cluster'] == 3]\n",
    "y3 = df['y'][df['cluster'] == 3]\n",
    "\n",
    "color = ['#E64980', '#FFA94D', '#74B816', '#748FFC']\n",
    "plt.scatter(x0, y0, color=color[0], s=15, label='A')      #red\n",
    "plt.scatter(x1, y1, color=color[1], s=15, label='B')    #yellow\n",
    "plt.scatter(x2, y2, color=color[2], s=15, label='C')      #green\n",
    "plt.scatter(x3, y3, color=color[3], s=15, label='D')     #blue\n",
    "plt.legend(loc='upper right')\n"
   ]
  },
  {
   "cell_type": "markdown",
   "id": "a61d1c60",
   "metadata": {},
   "source": [
    "## (1)"
   ]
  },
  {
   "cell_type": "code",
   "execution_count": 4,
   "id": "2a08a27e",
   "metadata": {
    "scrolled": false
   },
   "outputs": [
    {
     "name": "stdout",
     "output_type": "stream",
     "text": [
      "had run once!\n",
      "had run once!\n",
      "had run once!\n",
      "done\n"
     ]
    },
    {
     "data": {
      "image/png": "[encoded data removed]",
      "text/plain": [
       "<Figure size 432x288 with 1 Axes>"
      ]
     },
     "metadata": {
      "needs_background": "light"
     },
     "output_type": "display_data"
    },
    {
     "data": {
      "image/png": "[encoded data removed]",
      "text/plain": [
       "<Figure size 432x288 with 1 Axes>"
      ]
     },
     "metadata": {
      "needs_background": "light"
     },
     "output_type": "display_data"
    },
    {
     "data": {
      "image/png": "[encoded data removed]",
      "text/plain": [
       "<Figure size 432x288 with 1 Axes>"
      ]
     },
     "metadata": {
      "needs_background": "light"
     },
     "output_type": "display_data"
    }
   ],
   "source": [
    "###  initialize centroids by randomly selecting data points  ###\n",
    "k = 4\n",
    "c = np.random.choice(range(len(df)), k, False)\n",
    "\n",
    "c_x = []\n",
    "c_y = []\n",
    "for i in range(k) :\n",
    "    c_x.append(df.loc[c[i]]['x'])\n",
    "    c_y.append(df.loc[c[i]]['y'])\n",
    "    \n",
    "centroid = pd.DataFrame({'x' : c_x, 'y' : c_y})\n",
    "\n",
    "r = 1  #  round number\n",
    "while True :\n",
    "    ###  assign points to the centroid  ###\n",
    "    dist_list = []\n",
    "    cluster_list = []\n",
    "    for i in range(len(df)) : \n",
    "        point = np.array((df.loc[i]['x'], df.loc[i]['y']))\n",
    "        \n",
    "        ###  calculate the distances between data points and each centroid  ###\n",
    "        dists = []\n",
    "        for j in range(len(centroid)) : \n",
    "            center = np.array((centroid['x'][j], centroid['y'][j]))\n",
    "            dist = np.linalg.norm(point - center)\n",
    "            dists.append(dist)\n",
    "    \n",
    "        min_d = min(dists)   #  the distance of the point from the nearest centroid\n",
    "        cluster = dists.index(min(dists))   # the nearset centroid of a point = the cluster of the point    \n",
    "        dist_list.append(min_d)\n",
    "        cluster_list.append(cluster)\n",
    "\n",
    "    df['distance'] = dist_list\n",
    "    df['cluster_by_kmeans'] = cluster_list\n",
    "\n",
    "    \n",
    "    ###  readjust centroids  ###\n",
    "    c_x = []\n",
    "    c_y = []\n",
    "    for i in range(k) :\n",
    "        x = df['x'][df['cluster_by_kmeans'] == i]\n",
    "        y = df['y'][df['cluster_by_kmeans'] == i]\n",
    "        c_x.append(x.mean())\n",
    "        c_y.append(y.mean())\n",
    "    \n",
    "    recentroid = pd.DataFrame({'x' : c_x, 'y' : c_y})\n",
    "\n",
    "\n",
    "    ### plot  ###\n",
    "    plt.figure() \n",
    "    for i in range(k) :\n",
    "        x = df['x'][df['cluster_by_kmeans'] == i]\n",
    "        y = df['y'][df['cluster_by_kmeans'] == i]\n",
    "        plt.scatter(x, y, color=color[i], s=15) \n",
    "\n",
    "    plt.scatter(recentroid['x'], recentroid['y'], color='black', marker='x')\n",
    "    label = ['A', 'B', 'C', 'D', 'Centroids']\n",
    "    plt.xlabel('x', fontweight='bold')\n",
    "    plt.ylabel('y', fontweight='bold')\n",
    "    plt.legend(label, loc='upper right')\n",
    "    plt.title(f'Round {r}', fontdict={'family': 'serif', 'weight': 'bold', 'size': 20})\n",
    "    \n",
    "    print('had run once!')\n",
    "\n",
    "    if centroid.equals(recentroid) :  #  end the algorithm\n",
    "        print('done')\n",
    "        break\n",
    "    \n",
    "    centroid = recentroid\n",
    "    r = r+1\n"
   ]
  },
  {
   "cell_type": "markdown",
   "id": "7108f77e",
   "metadata": {},
   "source": [
    "## (2)"
   ]
  },
  {
   "cell_type": "code",
   "execution_count": 5,
   "id": "3c5229d4",
   "metadata": {
    "scrolled": false
   },
   "outputs": [
    {
     "name": "stdout",
     "output_type": "stream",
     "text": [
      "k = 2 done. Total round: 10\n",
      "k = 3 done. Total round: 12\n",
      "k = 4 done. Total round: 15\n",
      "k = 5 done. Total round: 3\n",
      "k = 6 done. Total round: 16\n",
      "k = 7 done. Total round: 5\n",
      "k = 8 done. Total round: 12\n",
      "k = 9 done. Total round: 13\n",
      "k = 10 done. Total round: 8\n",
      "k = 11 done. Total round: 9\n",
      "k = 12 done. Total round: 8\n",
      "k = 13 done. Total round: 10\n",
      "k = 14 done. Total round: 9\n"
     ]
    },
    {
     "data": {
      "text/plain": [
       "Text(0, 0.5, 'Sum of square error')"
      ]
     },
     "execution_count": 5,
     "metadata": {},
     "output_type": "execute_result"
    },
    {
     "data": {
      "image/png": "[encoded data removed]",
      "text/plain": [
       "<Figure size 432x288 with 1 Axes>"
      ]
     },
     "metadata": {
      "needs_background": "light"
     },
     "output_type": "display_data"
    }
   ],
   "source": [
    "SSE_list = []\n",
    "K = range(2, 15)\n",
    "for k in K :\n",
    "\n",
    "    ###  initialize centroids by randomly selecting data points  ###\n",
    "    c = np.random.choice(range(len(df)), k, False)\n",
    "\n",
    "    c_x = []\n",
    "    c_y = []\n",
    "    for i in range(k) :\n",
    "        c_x.append(df.loc[c[i]]['x'])\n",
    "        c_y.append(df.loc[c[i]]['y'])\n",
    "\n",
    "    centroid = pd.DataFrame({'x' : c_x, 'y' : c_y})\n",
    "\n",
    "    r = 1  #  round number\n",
    "    while True :\n",
    "        ###  assign points to the centroid  ###\n",
    "        dist_list = []\n",
    "        cluster_list = []\n",
    "        for i in range(len(df)) : \n",
    "            point = np.array((df.loc[i]['x'], df.loc[i]['y']))\n",
    "\n",
    "            ###  calculate the distances between data points and each centroid  ###\n",
    "            dists = []\n",
    "            for j in range(len(centroid)) : \n",
    "                center = np.array((centroid['x'][j], centroid['y'][j]))\n",
    "                dist = np.linalg.norm(point - center)\n",
    "                dists.append(dist)\n",
    "\n",
    "            min_d = min(dists)   #  the distance of the point from the nearest centroid\n",
    "            cluster = dists.index(min(dists))   # the nearset centroid of a point = the cluster of the point    \n",
    "            dist_list.append(min_d)\n",
    "            cluster_list.append(cluster)\n",
    "\n",
    "        df['distance'] = dist_list\n",
    "        df['cluster_by_kmeans'] = cluster_list\n",
    "\n",
    "\n",
    "        ###  readjust centroids  ###\n",
    "        c_x = []\n",
    "        c_y = []\n",
    "        for i in range(k) :\n",
    "            x = df['x'][df['cluster_by_kmeans'] == i]\n",
    "            y = df['y'][df['cluster_by_kmeans'] == i]\n",
    "            c_x.append(x.mean())\n",
    "            c_y.append(y.mean())\n",
    "\n",
    "        recentroid = pd.DataFrame({'x' : c_x, 'y' : c_y})\n",
    "\n",
    "        if centroid.equals(recentroid) :  #  end the algorithm\n",
    "            print(f'k = {k} done. Total round: {r}')\n",
    "            SSE = sum(dist_list)\n",
    "            break\n",
    "\n",
    "        centroid = recentroid\n",
    "        r = r+1\n",
    "    \n",
    "    SSE_list.append(SSE)\n",
    "\n",
    "\n",
    "plt.figure()\n",
    "plt.plot(list(K), SSE_list)\n",
    "plt.xlabel('Number of k', fontweight='bold')\n",
    "plt.ylabel('Sum of square error', fontweight='bold')"
   ]
  },
  {
   "cell_type": "markdown",
   "id": "48819d9a",
   "metadata": {},
   "source": [
    "## (3)"
   ]
  },
  {
   "cell_type": "code",
   "execution_count": 6,
   "id": "0ee95119",
   "metadata": {},
   "outputs": [
    {
     "name": "stdout",
     "output_type": "stream",
     "text": [
      "[ 38  95 273 167 160  46 274 190]\n",
      "k = 8 done. Total round: 11\n",
      "repetation : 1\n",
      "[ 74  75 184 174  88  48  36 177]\n",
      "k = 8 done. Total round: 6\n",
      "repetation : 2\n",
      "[108 155   7 250  71   1 243 265]\n",
      "k = 8 done. Total round: 13\n",
      "repetation : 3\n",
      "[244 161 273 165 190 143 159 246]\n",
      "k = 8 done. Total round: 14\n",
      "repetation : 4\n",
      "[ 52  58 294 143  36 255  48 270]\n",
      "k = 8 done. Total round: 11\n",
      "repetation : 5\n",
      "[248 230  42 268 293 227   4  97]\n",
      "k = 8 done. Total round: 15\n",
      "repetation : 6\n",
      "[267 229 119 200   1 239  24 295]\n",
      "k = 8 done. Total round: 10\n",
      "repetation : 7\n",
      "[201 147 196 213  69   0 214  16]\n",
      "k = 8 done. Total round: 10\n",
      "repetation : 8\n",
      "[195 219  24 286 187  51  90 218]\n",
      "k = 8 done. Total round: 6\n",
      "repetation : 9\n",
      "[202  78  11  73 233  95 240 282]\n",
      "k = 8 done. Total round: 12\n",
      "repetation : 10\n"
     ]
    },
    {
     "data": {
      "text/plain": [
       "[186.13206115974901,\n",
       " 189.24047660151106,\n",
       " 181.2725978766681,\n",
       " 181.9431305285393,\n",
       " 195.879608498159,\n",
       " 179.8299665000864,\n",
       " 180.89757065842042,\n",
       " 185.20315812515224,\n",
       " 186.84869930094857,\n",
       " 187.78399719152975]"
      ]
     },
     "execution_count": 6,
     "metadata": {},
     "output_type": "execute_result"
    },
    {
     "data": {
      "image/png": "[encoded data removed]",
      "text/plain": [
       "<Figure size 432x288 with 1 Axes>"
      ]
     },
     "metadata": {
      "needs_background": "light"
     },
     "output_type": "display_data"
    }
   ],
   "source": [
    "SSE_list = []\n",
    "rep = 0\n",
    "while rep < 10 :\n",
    "\n",
    "    k = 8\n",
    "    ###  initialize centroids by randomly selecting data points  ###\n",
    "    c = np.random.choice(range(len(df)), k, False)\n",
    "    print(c)\n",
    "    c_x = []\n",
    "    c_y = []\n",
    "    for i in range(k) :\n",
    "        c_x.append(df.loc[c[i]]['x'])\n",
    "        c_y.append(df.loc[c[i]]['y'])\n",
    "\n",
    "    centroid = pd.DataFrame({'x' : c_x, 'y' : c_y})\n",
    "\n",
    "    r = 1  #  round number\n",
    "    while True :\n",
    "        ###  assign points to the centroid  ###\n",
    "        dist_list = []\n",
    "        cluster_list = []\n",
    "        for i in range(len(df)) : \n",
    "            point = np.array((df.loc[i]['x'], df.loc[i]['y']))\n",
    "\n",
    "            ###  calculate the distances between data points and each centroid  ###\n",
    "            dists = []\n",
    "            for j in range(len(centroid)) : \n",
    "                center = np.array((centroid['x'][j], centroid['y'][j]))\n",
    "                dist = np.linalg.norm(point - center)\n",
    "                dists.append(dist)\n",
    "\n",
    "            min_d = min(dists)   #  the distance of the point from the nearest centroid\n",
    "            cluster = dists.index(min(dists))   # the nearset centroid of a point = the cluster of the point    \n",
    "            dist_list.append(min_d)\n",
    "            cluster_list.append(cluster)\n",
    "\n",
    "        df['distance'] = dist_list\n",
    "        df['cluster_by_kmeans'] = cluster_list\n",
    "\n",
    "\n",
    "        ###  readjust centroids  ###\n",
    "        c_x = []\n",
    "        c_y = []\n",
    "        for i in range(k) :\n",
    "            x = df['x'][df['cluster_by_kmeans'] == i]\n",
    "            y = df['y'][df['cluster_by_kmeans'] == i]\n",
    "            c_x.append(x.mean())\n",
    "            c_y.append(y.mean())\n",
    "\n",
    "        recentroid = pd.DataFrame({'x' : c_x, 'y' : c_y})\n",
    "\n",
    "        if centroid.equals(recentroid) :  #  end the algorithm\n",
    "            print(f'k = {k} done. Total round: {r}')\n",
    "            SSE = sum(dist_list)\n",
    "            break\n",
    "\n",
    "        centroid = recentroid\n",
    "        r = r+1\n",
    "    \n",
    "    SSE_list.append(SSE)\n",
    "    rep += 1\n",
    "    print(f'repetation : {rep}')\n",
    "\n",
    "plt.figure()\n",
    "plt.bar(list(range(1, 11)), SSE_list)\n",
    "plt.xlabel(f'Fixed k = {k}', fontweight='bold')\n",
    "plt.ylabel('Sum of square error', fontweight='bold')\n",
    "plt.title('Result of ten times randomly pick the initial points', fontdict={'family': 'serif', 'weight': 'bold', 'size': 17})\n",
    "\n",
    "SSE_list"
   ]
  },
  {
   "cell_type": "code",
   "execution_count": null,
   "id": "02fee290",
   "metadata": {},
   "outputs": [],
   "source": []
  }
 ],
 "metadata": {
  "kernelspec": {
   "display_name": "Python 3 (ipykernel)",
   "language": "python",
   "name": "python3"
  },
  "language_info": {
   "codemirror_mode": {
    "name": "ipython",
    "version": 3
   },
   "file_extension": ".py",
   "mimetype": "text/x-python",
   "name": "python",
   "nbconvert_exporter": "python",
   "pygments_lexer": "ipython3",
   "version": "3.9.7"
  }
 },
 "nbformat": 4,
 "nbformat_minor": 5
}
