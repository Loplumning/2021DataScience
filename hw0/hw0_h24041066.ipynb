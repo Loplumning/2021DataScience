{
 "cells": [
  {
   "cell_type": "code",
   "execution_count": 1,
   "id": "1c2608d7",
   "metadata": {},
   "outputs": [
    {
     "name": "stdout",
     "output_type": "stream",
     "text": [
      "Enter coefficient: 23\n",
      "Enter variable1: a\n",
      "Enter variable2: b\n",
      "Enter variable3: c\n",
      "result = n*X is 23 * a\n"
     ]
    }
   ],
   "source": [
    "coef  = int(input(\"Enter coefficient: \"))\n",
    "var1  = input(\"Enter variable1: \")\n",
    "var2  = input(\"Enter variable2: \")\n",
    "var3  = input(\"Enter variable3: \")\n",
    "\n",
    "result = coef\n",
    "print(\"result = n*X is %d * %s\" % (coef, var1))"
   ]
  },
  {
   "cell_type": "code",
   "execution_count": 14,
   "id": "f5872e70",
   "metadata": {},
   "outputs": [
    {
     "name": "stdout",
     "output_type": "stream",
     "text": [
      "Enter polynomials: 222*f\n",
      "222 is <class 'int'> , f is <class 'str'> \n"
     ]
    }
   ],
   "source": [
    "poly = input(\"Enter polynomials: \")\n",
    "coef, var = poly.split('*')\n",
    "coef = int(coef)\n",
    "print(\"%d is %s , %s is %s \" % (coef, type(coef), var, type(var)))\n"
   ]
  },
  {
   "cell_type": "code",
   "execution_count": 79,
   "id": "af04a3eb",
   "metadata": {},
   "outputs": [
    {
     "name": "stdout",
     "output_type": "stream",
     "text": [
      "Enter polynomials: (a)(2+b)(3*ab+4*b^2)\n",
      "(a)(2+b)(3*ab+4*b^2)\n",
      "['a', '2+b', '3*ab+4*b^2']\n"
     ]
    }
   ],
   "source": [
    "poly = input(\"Enter polynomials: \")\n",
    "print(poly)\n",
    "\n",
    "coef  = poly.split(\")(\")\n",
    "coef  = [i.strip('(') for i in coef]\n",
    "coef  = [i.strip(')') for i in coef]\n",
    "\n",
    "print(coef)"
   ]
  },
  {
   "cell_type": "code",
   "execution_count": 87,
   "id": "a9ffa583",
   "metadata": {},
   "outputs": [
    {
     "data": {
      "text/plain": [
       "'xy'"
      ]
     },
     "execution_count": 87,
     "metadata": {},
     "output_type": "execute_result"
    }
   ],
   "source": [
    "temp1 = 'x'\n",
    "temp2 = 'y'\n",
    "temp1+temp2\n"
   ]
  },
  {
   "cell_type": "code",
   "execution_count": 88,
   "id": "0c85fe34",
   "metadata": {},
   "outputs": [
    {
     "data": {
      "text/plain": [
       "'x3*xy'"
      ]
     },
     "execution_count": 88,
     "metadata": {},
     "output_type": "execute_result"
    }
   ],
   "source": [
    "temp1 = 'x'\n",
    "temp2 = '3*xy'\n",
    "temp1+temp2\n"
   ]
  },
  {
   "cell_type": "code",
   "execution_count": 105,
   "id": "eb4c3257",
   "metadata": {},
   "outputs": [
    {
     "data": {
      "text/plain": [
       "'2*xyyy'"
      ]
     },
     "execution_count": 105,
     "metadata": {},
     "output_type": "execute_result"
    }
   ],
   "source": [
    "temp1 = '2*xy^2'\n",
    "temp1 = '2' + 'xy' + '2'\n",
    "temp1 = '2' + 'x' + 'y' + '2'\n",
    "\n",
    "temp2 = 'y'\n",
    "temp1+temp2"
   ]
  },
  {
   "cell_type": "code",
   "execution_count": 91,
   "id": "c85ff553",
   "metadata": {},
   "outputs": [
    {
     "data": {
      "text/plain": [
       "'aa'"
      ]
     },
     "execution_count": 91,
     "metadata": {},
     "output_type": "execute_result"
    }
   ],
   "source": [
    "2*var1\n"
   ]
  },
  {
   "cell_type": "code",
   "execution_count": 104,
   "id": "0aa428dd",
   "metadata": {},
   "outputs": [
    {
     "ename": "TypeError",
     "evalue": "unsupported operand type(s) for ^: 'str' and 'int'",
     "output_type": "error",
     "traceback": [
      "\u001b[1;31m---------------------------------------------------------------------------\u001b[0m",
      "\u001b[1;31mTypeError\u001b[0m                                 Traceback (most recent call last)",
      "\u001b[1;32m~\\AppData\\Local\\Temp/ipykernel_1644/2245600960.py\u001b[0m in \u001b[0;36m<module>\u001b[1;34m\u001b[0m\n\u001b[1;32m----> 1\u001b[1;33m \u001b[0mvar1\u001b[0m\u001b[1;33m^\u001b[0m\u001b[1;36m2\u001b[0m\u001b[1;33m\u001b[0m\u001b[1;33m\u001b[0m\u001b[0m\n\u001b[0m",
      "\u001b[1;31mTypeError\u001b[0m: unsupported operand type(s) for ^: 'str' and 'int'"
     ]
    }
   ],
   "source": [
    "var1^2"
   ]
  },
  {
   "cell_type": "code",
   "execution_count": null,
   "id": "ece20e12",
   "metadata": {},
   "outputs": [],
   "source": []
  }
 ],
 "metadata": {
  "kernelspec": {
   "display_name": "Python 3 (ipykernel)",
   "language": "python",
   "name": "python3"
  },
  "language_info": {
   "codemirror_mode": {
    "name": "ipython",
    "version": 3
   },
   "file_extension": ".py",
   "mimetype": "text/x-python",
   "name": "python",
   "nbconvert_exporter": "python",
   "pygments_lexer": "ipython3",
   "version": "3.9.7"
  }
 },
 "nbformat": 4,
 "nbformat_minor": 5
}
